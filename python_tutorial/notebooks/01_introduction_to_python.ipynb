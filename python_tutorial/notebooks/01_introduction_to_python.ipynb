{
 "cells": [
  {
   "cell_type": "markdown",
   "id": "3407f2bb-c2c4-4492-a0d6-7e7421ea6be8",
   "metadata": {},
   "source": [
    "# Python Tutorial 01: Introduction to Python\n",
    "\n",
    "This notebook provides you with an overview of the basic capabilities of Python and is the first of a series of tutorials. If you spot any mistakes or issues, please report them to christoph.renkl@dal.ca"
   ]
  },
  {
   "cell_type": "markdown",
   "id": "49e1b5e2-50b8-4810-8822-0323a8db6317",
   "metadata": {
    "tags": []
   },
   "source": [
    "## Simple Operations\n",
    "\n",
    "The hashtag symbol `#` starts a comment. Python ignores everything to the right of it. Make use of them to leave yourself some notes in your code.\n",
    "\n",
    "You can use Python as a calculator:\n",
    "\n",
    "### Basic operators:"
   ]
  },
  {
   "cell_type": "code",
   "execution_count": null,
   "id": "a054fa49-3334-471c-92ce-1219c01de0f9",
   "metadata": {},
   "outputs": [],
   "source": [
    "# addition\n",
    "2 + 2"
   ]
  },
  {
   "cell_type": "code",
   "execution_count": null,
   "id": "19d52464-cbf3-4b42-bfbf-7a3330045a3c",
   "metadata": {},
   "outputs": [],
   "source": [
    "# subtraction\n",
    "5 - 3"
   ]
  },
  {
   "cell_type": "code",
   "execution_count": null,
   "id": "bd9f3ea7-7a0f-47a4-bbe1-265ec3f96efd",
   "metadata": {},
   "outputs": [],
   "source": [
    "# multiplication\n",
    "3 * 4"
   ]
  },
  {
   "cell_type": "code",
   "execution_count": null,
   "id": "4e11bdb5-067d-4148-b600-467704262a40",
   "metadata": {},
   "outputs": [],
   "source": [
    "# division\n",
    "7 / 2"
   ]
  },
  {
   "cell_type": "code",
   "execution_count": null,
   "id": "5c838843-d433-441e-9e3c-d339a957294b",
   "metadata": {},
   "outputs": [],
   "source": [
    "# division (floor)\n",
    "7 // 2"
   ]
  },
  {
   "cell_type": "code",
   "execution_count": null,
   "id": "a941427b-b187-49cc-bf44-be8ced1b3543",
   "metadata": {},
   "outputs": [],
   "source": [
    "# modulo\n",
    "7 % 2"
   ]
  },
  {
   "cell_type": "code",
   "execution_count": null,
   "id": "72a046b9-141c-42e2-bedd-c964121b07d4",
   "metadata": {},
   "outputs": [],
   "source": [
    "# exponentiation\n",
    "2 ** 8"
   ]
  },
  {
   "cell_type": "markdown",
   "id": "ce241a74-413d-4ef7-becb-3cb9172e52ba",
   "metadata": {},
   "source": [
    "### Variables\n",
    "\n",
    "Use the equals sign to assign a variable:"
   ]
  },
  {
   "cell_type": "code",
   "execution_count": null,
   "id": "5c97087b-bdb3-42e4-93e7-46d112ff00d5",
   "metadata": {},
   "outputs": [],
   "source": [
    "x = 12"
   ]
  },
  {
   "cell_type": "markdown",
   "id": "ad00d388-7a92-4252-9006-788b70dd32cb",
   "metadata": {},
   "source": [
    "Let's do some math with the variable:"
   ]
  },
  {
   "cell_type": "code",
   "execution_count": null,
   "id": "40db549c-e617-4245-bd7b-6a123408eb48",
   "metadata": {},
   "outputs": [],
   "source": [
    "15 - x # = 15 - 12"
   ]
  },
  {
   "cell_type": "markdown",
   "id": "69f32d68-69f4-4080-9cbe-ffaac68cdd18",
   "metadata": {},
   "source": [
    "You can store the result of that calculation in a new variable:"
   ]
  },
  {
   "cell_type": "code",
   "execution_count": null,
   "id": "91935d70-6bd3-4220-b561-5406810a3160",
   "metadata": {},
   "outputs": [],
   "source": [
    "y = 15 - x # The variable y has now the value of 3 and can be used for further calculations"
   ]
  },
  {
   "cell_type": "markdown",
   "id": "8120d455-3167-4a5b-a122-302af7984b1c",
   "metadata": {},
   "source": [
    "Multiply the variables `x` and `y`  "
   ]
  },
  {
   "cell_type": "code",
   "execution_count": null,
   "id": "d5ba9ba9-deb6-41d6-96d4-0b398bad8a68",
   "metadata": {},
   "outputs": [],
   "source": [
    "z = x * y  # = 12 * 3\n",
    "\n",
    "# If you want to see the result of this calculation, use the print() function\n",
    "print(z)"
   ]
  },
  {
   "cell_type": "markdown",
   "id": "0b1b6840-be22-49f1-9f00-e55a9d1efb5a",
   "metadata": {},
   "source": [
    "We will learn more about functions and how to use them soon."
   ]
  },
  {
   "cell_type": "markdown",
   "id": "99c66ec1-a356-4cd4-b5da-8bca5efff932",
   "metadata": {},
   "source": [
    "## Data Types\n",
    "\n",
    "Variables don't have to be numbers:"
   ]
  },
  {
   "cell_type": "code",
   "execution_count": null,
   "id": "99255ddf-0496-4058-a2bd-e46e0291a622",
   "metadata": {},
   "outputs": [],
   "source": [
    "txt = \"Hello World\" # the variable `txt` is of data type string (str)"
   ]
  },
  {
   "cell_type": "markdown",
   "id": "a24edbfd-37a0-4f0f-814d-0e037b6050ad",
   "metadata": {},
   "source": [
    "Strings are defined by single (' ') or double (\" \") quotes.\n",
    "\n",
    "There are many more data types. Here are a few common ones:"
   ]
  },
  {
   "cell_type": "code",
   "execution_count": null,
   "id": "b62be5e0-e46a-4da4-9be5-5443a513c592",
   "metadata": {},
   "outputs": [],
   "source": [
    "a = 5       # integer (int), i.e., no decimals\n",
    "b = 3.14195 # float, i.e., any real number\n",
    "c = \"cat\"   # string\n",
    "d = True    # logical, boolean (bool) = true/false"
   ]
  },
  {
   "cell_type": "markdown",
   "id": "5bffe2b1-8445-4dcc-804e-a3f0dffdcb01",
   "metadata": {},
   "source": [
    "You can check the data type of any variable/object using the function type()"
   ]
  },
  {
   "cell_type": "code",
   "execution_count": null,
   "id": "f2a51c08-661b-4fc6-9919-0f40db14ae6c",
   "metadata": {},
   "outputs": [],
   "source": [
    "type(c)"
   ]
  },
  {
   "cell_type": "markdown",
   "id": "f5e729d0-c3ac-462e-aa5d-3958bafe4850",
   "metadata": {},
   "source": [
    "The variables above are single value data types which can be stored or organized in many other data types: "
   ]
  },
  {
   "cell_type": "code",
   "execution_count": null,
   "id": "18b082c9-163c-46e6-939a-d508c1e80b98",
   "metadata": {},
   "outputs": [],
   "source": [
    "# List - sequence of multiple values\n",
    "lst1 = [1, 2, 3, 4, 5, 6, 7, 8, 9, 10]\n",
    "type(lst1)"
   ]
  },
  {
   "cell_type": "markdown",
   "id": "76ceb32c-ad99-436b-a6ab-4ae7db74c050",
   "metadata": {},
   "source": [
    "Lists don't have to be just numbers, you can even mix data types"
   ]
  },
  {
   "cell_type": "code",
   "execution_count": null,
   "id": "a118b674-fb99-4742-a5ae-f718d69e25b3",
   "metadata": {},
   "outputs": [],
   "source": [
    "lst2 = [\"cow\", \"pig\", \"horse\", \"tugboat\", \"pumpkin\", \"hamster\", \"onion\", \"bean\"]\n",
    "lst3 = [1, 2.3, c, False]"
   ]
  },
  {
   "cell_type": "markdown",
   "id": "ec72c743-68d0-40ba-b349-f0af328994be",
   "metadata": {},
   "source": [
    "You can add (concatenate) two lists"
   ]
  },
  {
   "cell_type": "code",
   "execution_count": null,
   "id": "4a19f766-6b3d-4678-95cb-2332d252f4d2",
   "metadata": {},
   "outputs": [],
   "source": [
    "lst1 + lst2"
   ]
  },
  {
   "cell_type": "markdown",
   "id": "642804d6-bceb-47ea-b536-893079f9411f",
   "metadata": {},
   "source": [
    "Multiplying a list with an integer creates copys of the list and concatenates them"
   ]
  },
  {
   "cell_type": "code",
   "execution_count": null,
   "id": "cecdb39f-2a21-4719-b884-78652f032095",
   "metadata": {},
   "outputs": [],
   "source": [
    "lst1 * 3"
   ]
  },
  {
   "cell_type": "markdown",
   "id": "c54e31da-b02f-4bc5-9f4a-6ab2db38eb1b",
   "metadata": {},
   "source": [
    "Lists are what's called \"mutable\" which basically means that you can add, remove, or change their elements. In the next tutorial, we will learn how to access and modify individual items in a list."
   ]
  },
  {
   "cell_type": "code",
   "execution_count": null,
   "id": "4f636fae-97ed-4865-ba37-7855c4ab3029",
   "metadata": {},
   "outputs": [],
   "source": [
    "# Tuple, a \"read-only\" list which become important for returning values from functions\n",
    "tpl1 = (1, 2, 3)\n",
    "tpl2 = (\"Halifax\", \"Montreal\", \"Toronto\", \"Vancouver\")\n",
    "type(tpl1)"
   ]
  },
  {
   "cell_type": "code",
   "execution_count": null,
   "id": "216dd18e-aed7-4eb7-80c5-7eed066fc00b",
   "metadata": {},
   "outputs": [],
   "source": [
    "# Dictionary - pairs of keys and values\n",
    "dct = {\"Apple\"  : \"Fruit\",\n",
    "       \"Carrot\" : \"Vegetable\",\n",
    "       \"Pear\"   : \"Fruit\",\n",
    "       \"Peach\"  : \"Fruit\",\n",
    "       \"Potato\" : \"Vegetable\",\n",
    "       \"Banana\" : \"Fruit\"}\n",
    "dct"
   ]
  },
  {
   "cell_type": "code",
   "execution_count": null,
   "id": "6f8e4f4a-bc72-4f9b-ab0d-73631268b85e",
   "metadata": {},
   "outputs": [],
   "source": [
    "print(dct[\"Carrot\"]) # print value of specific key\n",
    "print(dct[\"Banana\"])\n",
    "print(dct.keys())   # print all keys in dictionary"
   ]
  },
  {
   "cell_type": "markdown",
   "id": "fab7ed0e-e1b5-4dc2-92b1-6ef887285d1b",
   "metadata": {},
   "source": [
    "The values of dictionaries can be any data type."
   ]
  },
  {
   "cell_type": "markdown",
   "id": "c52db8d0-3026-4e90-ad00-eda4d6dc1bf0",
   "metadata": {},
   "source": [
    "## Packages\n",
    "\n",
    "Python heavily relies on the concept of \"modular programming\" which is just a fancy term for dividing the entire code base into smaller chunks called modules or packages. They are basically collections of functions and later in the tutorials, we will learn how to write our own modules. An advantage of modular programming is that it makes it easier to maintain and, more importantly, reuse the code.\n",
    "\n",
    "Pure Python only has a limited set of modules. However, due the beauty of being an open-source programming language, many people have dedicated their (spare) time and developed modules and packages with sophisticated functionalities and provide them to all Python users.\n",
    "\n",
    "If you installed Python through the Anaconda distribution many packages are already pre-installed, but you have to import (load) them every time you want to use in order to make them available for your script.\n",
    "\n",
    "There are different ways of importing a package. Typically this is done at the beginning of each notebook or script:"
   ]
  },
  {
   "cell_type": "code",
   "execution_count": null,
   "id": "4ab8c4ce-598a-44fa-a59e-195ec46df33c",
   "metadata": {},
   "outputs": [],
   "source": [
    "# Load the full `os` package which is helpful for path and filename operations.\n",
    "import os\n",
    "\n",
    "# Load full `pandas` package which is an excellent tool for time series analysis.\n",
    "# We assign an abbreviation to it which makes it easier to use it's functions:\n",
    "import pandas as pd\n",
    "\n",
    "# only load the Path() function from pandas package\n",
    "from pathlib import Path"
   ]
  },
  {
   "cell_type": "markdown",
   "id": "8e161108-a0e2-491d-a31b-d584a11b5e97",
   "metadata": {},
   "source": [
    "Sometime you will see the following import statement:\n",
    "\n",
    "```\n",
    "from pandas import *\n",
    "```\n",
    "\n",
    "which means that you import all functions from a package. However, this syntax is **not recommended**, because different packages may have functions that share the same names, but have a different functionality or behavior.\n",
    "\n",
    "Missing packages can be installed using the conda package manager. The exact procedure to install packages depends on your operating system. We will cover installation in the next tutorials."
   ]
  },
  {
   "cell_type": "markdown",
   "id": "f0fa7684-a8f5-400e-9a08-ad1b9b7d8421",
   "metadata": {},
   "source": [
    "## Reading Data\n",
    "\n",
    "We now want to read a comma-separated values (CSV) file that contains a subset of the data collected through the Bedford Basin Monitoring Program. First, we specify the path to the directory where the file is stored using the `Path()` function from the `pathlib` package. This function makes it very convenient to deal with paths. For example, we can extend a path using a back slash `/` (see below).\n",
    "\n",
    "Before you execute the next cell, change the path in the variable `datadir` to reflect your file structure."
   ]
  },
  {
   "cell_type": "code",
   "execution_count": null,
   "id": "935eedf0-18f2-48af-92d3-062d2a817818",
   "metadata": {},
   "outputs": [],
   "source": [
    "# path\n",
    "datadir = Path(\"/home/chrenkl/Projects/DISP/python_tutorial/data/raw\")\n",
    "\n",
    "# full file name including path (append the file name to the path of `datadir` using \"/\")\n",
    "fname = datadir / \"D18667042_subset.csv\""
   ]
  },
  {
   "cell_type": "markdown",
   "id": "61f1e0d4-1815-4cdb-938f-3fb53c580025",
   "metadata": {},
   "source": [
    "We imported the `pandas` package above. In order to use its `read_csv()` function, we type the package and function name with a period - now it is obvious why we assigned an abbreviation to it."
   ]
  },
  {
   "cell_type": "code",
   "execution_count": null,
   "id": "fc7442b2-7f13-49ca-b2a7-69ec374df380",
   "metadata": {},
   "outputs": [],
   "source": [
    "# read the file: \n",
    "ctd = pd.read_csv(fname)"
   ]
  },
  {
   "cell_type": "markdown",
   "id": "8dab083a-1cd8-497b-a916-98ae21d32542",
   "metadata": {},
   "source": [
    "We now have the data in file `D18667042_subset.csv`, which is stored in the `data` subdirectory, assigned to the variabel `ctd`. This variable is a `pandas.DataFrame` which you can think of as a table with headers. Let's have a look at the structure of the data by printing the first couple of rows:"
   ]
  },
  {
   "cell_type": "code",
   "execution_count": null,
   "id": "b37e81a9-e58b-45e2-81da-0fe8b3895ede",
   "metadata": {},
   "outputs": [],
   "source": [
    "ctd.head()"
   ]
  },
  {
   "cell_type": "markdown",
   "id": "3523f154-c897-4b74-b1e1-0c357523776d",
   "metadata": {},
   "source": [
    "The bold numbers at the beginning of each row are indexes and each column has a name that we can use to access the data."
   ]
  },
  {
   "cell_type": "code",
   "execution_count": null,
   "id": "d6f169ea-440f-4e1b-800d-0004821e4ed5",
   "metadata": {},
   "outputs": [],
   "source": [
    "# print one column:\n",
    "ctd[\"pressure\"]"
   ]
  },
  {
   "cell_type": "code",
   "execution_count": null,
   "id": "5dc81a3f-6628-459a-b6da-04f2c927f9d7",
   "metadata": {},
   "outputs": [],
   "source": [
    "# Check the data type of the temperature column\n",
    "type(ctd[\"temperature\"])"
   ]
  },
  {
   "cell_type": "markdown",
   "id": "ff2f8921-2277-47c6-a08a-10631f857c44",
   "metadata": {},
   "source": [
    "A `pandas.DataFrame` typically consist of one or more `pandas.Series` (columns) which share the same indices. As we ill see in the upcoming tutorials, this index doesn't have to be an integer number. You can also print some summary statistics of each column that can help you explore the dataset."
   ]
  },
  {
   "cell_type": "code",
   "execution_count": null,
   "id": "3c1ee76b-a908-48d6-b566-e2c426c4418f",
   "metadata": {},
   "outputs": [],
   "source": [
    "ctd.describe()"
   ]
  },
  {
   "cell_type": "markdown",
   "id": "f6e1b659-a219-4f6c-9cb8-e86d5be1aa41",
   "metadata": {},
   "source": [
    "## Plotting\n",
    "\n",
    "Python itself does not have any functions to plot, but there are some packages which help you to create figures. The most common one is `matplotlib` which typically is imported like this:"
   ]
  },
  {
   "cell_type": "code",
   "execution_count": null,
   "id": "97a502bf-127d-4e79-b79b-3ad551f5cad5",
   "metadata": {},
   "outputs": [],
   "source": [
    "import matplotlib.pyplot as plt"
   ]
  },
  {
   "cell_type": "markdown",
   "id": "86fd27d3-83f3-41aa-8eba-4735e3d3487c",
   "metadata": {},
   "source": [
    "Plot the temperature column of our `DataFrame` in the variable `ctd`:"
   ]
  },
  {
   "cell_type": "code",
   "execution_count": null,
   "id": "f25f2035-a28f-4ee6-8009-b545dc03acf5",
   "metadata": {},
   "outputs": [],
   "source": [
    "plt.plot(ctd[\"temperature\"])"
   ]
  },
  {
   "cell_type": "markdown",
   "id": "840ef0f7-aeef-476d-a503-715735ca1869",
   "metadata": {},
   "source": [
    "The figure shows the index on the x-axis and temperature on the y-axis. We know that this is the temperature at different depths in the water column which we also have information of in the `DataFrame` (pressure is closely related to depth in the ocean). Therefore, it would be more intuitive to have temperature on the x-axis and pressure on the y-axis. We can achieve that by providing more arguments to the `plot()` function:"
   ]
  },
  {
   "cell_type": "code",
   "execution_count": null,
   "id": "ce3d0298-9787-4b43-877d-f8dcdf6107b9",
   "metadata": {},
   "outputs": [],
   "source": [
    "plt.plot(ctd.temperature, ctd.pressure)"
   ]
  },
  {
   "cell_type": "markdown",
   "id": "4e9f429f-ecc8-4ade-9f17-800984aa8bda",
   "metadata": {},
   "source": [
    "By default, the origin is in the lower left corner which makes sense for most data. In oceanography, depth is typically the (positive) distance from the sea surface and we therefore want to invert the y-axis. We will also parse more arguments to the plot function to make thee figure prettier:"
   ]
  },
  {
   "cell_type": "code",
   "execution_count": null,
   "id": "15c37938-42d3-4ccf-89fb-4ccfbb744824",
   "metadata": {},
   "outputs": [],
   "source": [
    "plt.plot(ctd.temperature, ctd.pressure,  # plot temperature (on the x-axis) as function of pressure (y-axis)\n",
    "         color=\"g\",                      # specify the color of the line (green)\n",
    "         linestyle=\"--\",                 # specify the line style (dashed)\n",
    "         linewidth=2)                    # make line thicker\n",
    "\n",
    "# invert y-axis\n",
    "plt.gca().invert_yaxis()\n",
    "\n",
    "# add axis labels and title\n",
    "plt.xlabel(\"Temperature\")\n",
    "plt.ylabel(\"Pressure\")\n",
    "plt.title(\"CDT Cast - Bedford Basin Monitoring Program\")"
   ]
  },
  {
   "cell_type": "markdown",
   "id": "9e0ee671-c8d6-46ad-ba10-3fc020d748a1",
   "metadata": {},
   "source": [
    "The `pandas` package comes with its own plotting capabilities. These are based on the standard plotting package `matplotlib` which gets called under the hood:"
   ]
  },
  {
   "cell_type": "code",
   "execution_count": null,
   "id": "78edbfe0-510c-4e8a-93ea-300a38a3f726",
   "metadata": {},
   "outputs": [],
   "source": [
    "ctd.plot(x=\"temperature\", y=\"pressure\",\n",
    "         color=\"g\",\n",
    "         linestyle=\"--\",\n",
    "         linewidth=2,\n",
    "         xlabel=\"Temperature\",\n",
    "         ylabel=\"Pressure\",\n",
    "         title=\"CDT Cast - Bedford Basin Monitoring Program\",         \n",
    "         ylim=[70, 0])"
   ]
  },
  {
   "cell_type": "markdown",
   "id": "88754a52-12bd-4929-b556-ac37986ae371",
   "metadata": {},
   "source": [
    "We can recreate the figure we plotted with `matplotlib` before. I prefer to use `matplotlib` because it gives you more flexibility. The plotting capabilities of `pandas` become very useful when you just want to have a quicklook at your data."
   ]
  },
  {
   "cell_type": "markdown",
   "id": "9a4cd1b1-890a-4402-a312-0942abc22430",
   "metadata": {},
   "source": [
    "## Getting help\n",
    "\n",
    "In order to get information about a package or function, you can use the help tab in the top right pane or the `help()` function, e.g.,"
   ]
  },
  {
   "cell_type": "code",
   "execution_count": null,
   "id": "2d10e197-d0d3-4f7f-82a4-4d3c1131ca5a",
   "metadata": {},
   "outputs": [],
   "source": [
    "help(print)"
   ]
  },
  {
   "cell_type": "markdown",
   "id": "ed7e1c9a-075a-41ea-a77a-161d85fabce7",
   "metadata": {},
   "source": [
    "If you want to get a deeper understanding of how Python works and a more detailed guide how to use it, read through the [SciPy Lectures](https://www.scipy-lectures.org/).\n",
    "\n",
    "For more specific problems, consult the following ressources:\n",
    "\n",
    "1. Other students (!!!)\n",
    "2. Stackoverflow (or other code forums)\n",
    "3. GitHub (or related code repositories)\n",
    "4. Personal blogs\n",
    "5. Open-source courses (Coursera, etc.)\n",
    "\n",
    "Google is your friend. Well-articulated searches will (hopefully) send you to the right place. Good luck, and don't be afraid to ask for help!"
   ]
  },
  {
   "cell_type": "code",
   "execution_count": null,
   "id": "75d581d1-dea2-4f30-b2c4-63fb616af8a3",
   "metadata": {},
   "outputs": [],
   "source": []
  }
 ],
 "metadata": {
  "kernelspec": {
   "display_name": "Python 3 (ipykernel)",
   "language": "python",
   "name": "python3"
  },
  "language_info": {
   "codemirror_mode": {
    "name": "ipython",
    "version": 3
   },
   "file_extension": ".py",
   "mimetype": "text/x-python",
   "name": "python",
   "nbconvert_exporter": "python",
   "pygments_lexer": "ipython3",
   "version": "3.9.9"
  }
 },
 "nbformat": 4,
 "nbformat_minor": 5
}
