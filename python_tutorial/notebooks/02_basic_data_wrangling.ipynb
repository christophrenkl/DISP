{
 "cells": [
  {
   "cell_type": "markdown",
   "id": "d60720ea-8006-4835-a4d0-89b569eeb3f4",
   "metadata": {},
   "source": [
    "# Python Tutorial 02: Basic Data Wrangling\n",
    "\n",
    "This script provides you with an overview of \"data wrangling\" with Python which is a fancy term for accessing and modifying data. This overview is not exhaustive by any means, but is intended to make you familiar with some basic concepts of programming. If you spot any mistakes or issues, please report them to christoph.renkl@dal.ca.\n",
    "\n",
    "## Indexing (Slicing)\n",
    "\n",
    "In the last tutorial, we introduced a few data types which can store multiple values, namely lists, tuples, and dictionaries. These data types are also also called containers or collections."
   ]
  },
  {
   "cell_type": "code",
   "execution_count": null,
   "id": "67bdbe54-570e-4988-b5d7-800b56cc95e7",
   "metadata": {},
   "outputs": [],
   "source": [
    "# Let's define a list:\n",
    "lst = [5, 89.2, \"boat\", 0, 9999., True, \"banana\", 42, 3.14295, \"ten\"]\n",
    "\n",
    "# Check if it is actually a list\n",
    "print(type(lst))"
   ]
  },
  {
   "cell_type": "markdown",
   "id": "756ecbf3-620d-48e1-8dd3-a1886f327809",
   "metadata": {},
   "source": [
    "Sometimes you may want to access certain elements of a container and this is where indexing comes into play. An index is the position of a value in a container. It is important to note that Python's indexing is zero based which means that the index of the first item is 0.\n",
    "\n",
    "You can select the value at a certain position (index) of a container by by typing the index in brackets after the variable name:"
   ]
  },
  {
   "cell_type": "code",
   "execution_count": null,
   "id": "27ed80cb-203a-4af1-8cb2-b9cbed64dde4",
   "metadata": {},
   "outputs": [],
   "source": [
    "lst[0] # first element of variable lst"
   ]
  },
  {
   "cell_type": "code",
   "execution_count": null,
   "id": "1e82fde8-edca-4755-a9b2-7d8637b82349",
   "metadata": {},
   "outputs": [],
   "source": [
    "lst[6]  # 7th element of variable lst"
   ]
  },
  {
   "cell_type": "markdown",
   "id": "8b42cbaa-6b52-4e38-8e97-4dc44019a5c0",
   "metadata": {},
   "source": [
    "You can also select a sequence of indices - this is called slicing. In the brackets, write the first and last index of the desired sequence separated by a colon"
   ]
  },
  {
   "cell_type": "code",
   "execution_count": null,
   "id": "991066a9-68da-43e9-93d6-93d74e98bbec",
   "metadata": {},
   "outputs": [],
   "source": [
    "lst[4:8]  # fifth to 8th element of variable lst"
   ]
  },
  {
   "cell_type": "markdown",
   "id": "959ae0e9-67b7-49ed-833b-1c75a23a3559",
   "metadata": {},
   "source": [
    "Note that the last index is excluded! Compare with the list above and note that the 9th item in `lst`, i.e., the item with index `8` (`3.14295`), is not part of the subset.  This can be a bit confusing.\n",
    "\n",
    "You can also count from the end of a sequence"
   ]
  },
  {
   "cell_type": "code",
   "execution_count": null,
   "id": "eb3df5c0-b413-45cd-a0e6-244640f308e4",
   "metadata": {},
   "outputs": [],
   "source": [
    "lst[-1] # returns last element of variable lst"
   ]
  },
  {
   "cell_type": "markdown",
   "id": "60eeb940-5f90-4342-9fb0-03616cbab55a",
   "metadata": {},
   "source": [
    "If you only want every second item of a slice, add another colon for the increment, e.g., here `2`."
   ]
  },
  {
   "cell_type": "code",
   "execution_count": null,
   "id": "dc3c22dd-4adb-4c0b-b091-1c7d9eb2ead5",
   "metadata": {},
   "outputs": [],
   "source": [
    "lst[:8:2] # returns first to 8th element, but skips every other"
   ]
  },
  {
   "cell_type": "markdown",
   "id": "ac3a2d99-6033-4166-bb6e-8bdfbcebedaa",
   "metadata": {},
   "source": [
    "You can also use slicing to reverse a list:"
   ]
  },
  {
   "cell_type": "code",
   "execution_count": null,
   "id": "a82152bf-3890-4172-8463-3fe3e123bcaa",
   "metadata": {},
   "outputs": [],
   "source": [
    "lst[::-1]"
   ]
  },
  {
   "cell_type": "markdown",
   "id": "7846f694-25b3-4b4e-9c15-a025819bee4d",
   "metadata": {},
   "source": [
    "The same syntax applies to tuples"
   ]
  },
  {
   "cell_type": "code",
   "execution_count": null,
   "id": "c9ee1615-3110-4670-8e2c-c69e5c2d70f6",
   "metadata": {},
   "outputs": [],
   "source": [
    "tpl = ('Halifax', 'Montreal', 'Toronto', 'Vancouver')\n",
    "tpl[1:]"
   ]
  },
  {
   "cell_type": "code",
   "execution_count": null,
   "id": "18ff2f42-5a5c-4b06-ba97-e876528efa78",
   "metadata": {},
   "outputs": [],
   "source": [
    "# Just as a reminder, items of a dictionary are accesses by their key\n",
    "dct = {\"Apple\"  : \"Fruit\",\n",
    "       \"Carrot\" : \"Vegetable\",\n",
    "       \"Pear\"   : \"Fruit\",\n",
    "       \"Peach\"  : \"Fruit\",\n",
    "       \"Potato\" : \"Vegetable\",\n",
    "       \"Banana\" : \"Fruit\"}\n",
    "dct\n",
    "\n",
    "print(dct[\"Carrot\"]) # print value of specific key\n",
    "print(dct[\"Banana\"])"
   ]
  },
  {
   "cell_type": "markdown",
   "id": "06b72431-5a97-49e6-aa50-b2356d997406",
   "metadata": {},
   "source": [
    "## Installing Packages\n",
    "\n",
    "Before we look at some real data, we need a package which is not automatically installed with the Anaconda distribution of Python. However, we can use Anaconda's package manager conda to install new packages.\n",
    "\n",
    "On Linux or Mac open a terminal and type\n",
    "```\n",
    "conda install -c conda-forge cmocean\n",
    "```\n",
    "\n",
    "On Windows open the Anaconda prompt from the start menu and type\n",
    "```\n",
    "conda install -c conda-forge cmocean\n",
    "```"
   ]
  },
  {
   "cell_type": "markdown",
   "id": "3a053875-af57-4b15-b7a6-7ca2d037e094",
   "metadata": {},
   "source": [
    "## Indexing and Subsetting pandas DataFrames\n",
    "\n",
    "Another data type that was introduced in the first tutorial is a `pandas.DataFrame`. The benefit of using pandas DataFrames is that you can access or subset them based on either traditional indexing or labels.\n",
    "\n",
    "Before reading in some data, let's load all packages that we will need for the remainder of the tutorial."
   ]
  },
  {
   "cell_type": "code",
   "execution_count": null,
   "id": "171538f1-ab4a-4ada-82c9-b23de517f42c",
   "metadata": {},
   "outputs": [],
   "source": [
    "from pathlib import Path        # easy handling of file paths\n",
    "import pandas as pd             # read, manipulate, and write data that can be listed as a table\n",
    "import matplotlib.pyplot as plt # plotting\n",
    "import cmocean.cm as cmo        # scientific, perceptually uniform colormaps"
   ]
  },
  {
   "cell_type": "code",
   "execution_count": null,
   "id": "6eecbcbe-9033-4af8-9e07-97f031ae2d98",
   "metadata": {},
   "outputs": [],
   "source": [
    "# path to DISP directory\n",
    "dispdir = Path(\"/home/chrenkl/Projects/DISP/python_tutorial\")\n",
    "\n",
    "# full file name including path\n",
    "fname = dispdir / \"data\" / \"raw\" / \"otn200_20151027_53_delayed.csv\"\n",
    "\n",
    "# Read data - these are from a glider mission along the Halifax line in 2015\n",
    "df = pd.read_csv(fname)\n",
    "\n",
    "# print the first 10 rows\n",
    "df.head(10)"
   ]
  },
  {
   "cell_type": "markdown",
   "id": "59e2a41a-f722-48e4-b65f-6cf719e42043",
   "metadata": {},
   "source": [
    "DataFrames are basically arrays with two dimensions: rows and columns. A single column is also called `pandas.Series`.\n",
    "\n",
    "Columns are accessed like a dictionary by their column name"
   ]
  },
  {
   "cell_type": "code",
   "execution_count": null,
   "id": "f494b3ac-1b0c-4da8-afb2-8cb54d5d0cbf",
   "metadata": {},
   "outputs": [],
   "source": [
    "df[\"temperature\"]"
   ]
  },
  {
   "cell_type": "markdown",
   "id": "2591314d-9a05-4954-9aa7-98e9fe6f410d",
   "metadata": {},
   "source": [
    "Each row of a DataFrame has a label (index) that you can access specific rows with."
   ]
  },
  {
   "cell_type": "code",
   "execution_count": null,
   "id": "0357779d-4464-4d0e-860d-216915d45bb8",
   "metadata": {},
   "outputs": [],
   "source": [
    "# Print the labels of the DataFrame\n",
    "df.index"
   ]
  },
  {
   "cell_type": "markdown",
   "id": "d322478d-bd5f-42a6-a09d-0ab36bbf49d2",
   "metadata": {},
   "source": [
    "By default, the labels are just a sequence starting with zero, but we can change that, e.g."
   ]
  },
  {
   "cell_type": "code",
   "execution_count": null,
   "id": "8be509f1-b554-41b3-a578-7b99b673a6f6",
   "metadata": {},
   "outputs": [],
   "source": [
    "df.index = df.index + 5\n",
    "\n",
    "# Check the result - note that only the label has changed\n",
    "df.head(10)"
   ]
  },
  {
   "cell_type": "markdown",
   "id": "2b0d3404-9aaa-4a91-bc8e-abb3a8c54445",
   "metadata": {},
   "source": [
    "For accessing rows by their label, use `.loc`"
   ]
  },
  {
   "cell_type": "code",
   "execution_count": null,
   "id": "b5cd4274-ab02-4a8e-9ff1-c8f6ca64add5",
   "metadata": {},
   "outputs": [],
   "source": [
    "df.loc[17] # Note that this selects the row with the label 17 and not\n",
    "           # the 18th row which you may have expected"
   ]
  },
  {
   "cell_type": "markdown",
   "id": "558153fa-2de3-4dad-a82b-e6f4bbd8f1e9",
   "metadata": {},
   "source": [
    "Since in this case the labels are integers, we can use the same syntax as above to select sequence of rows"
   ]
  },
  {
   "cell_type": "code",
   "execution_count": null,
   "id": "913a442b-d2bf-4860-953f-152ac09a97e2",
   "metadata": {},
   "outputs": [],
   "source": [
    "df.loc[17:23]"
   ]
  },
  {
   "cell_type": "code",
   "execution_count": null,
   "id": "24d9a094-9943-409c-adc2-d1c827ea3114",
   "metadata": {},
   "outputs": [],
   "source": [
    "df.loc[:100:10]"
   ]
  },
  {
   "cell_type": "markdown",
   "id": "17b98fc2-0b47-4666-bf5b-d8f463183830",
   "metadata": {},
   "source": [
    "You can also provide a list of labels to select a number of individual rows."
   ]
  },
  {
   "cell_type": "code",
   "execution_count": null,
   "id": "76dc70de-0368-4ebf-a1ff-1bd10da857b5",
   "metadata": {},
   "outputs": [],
   "source": [
    "df.loc[[56, 38, 333, 1000, 23, 75]]"
   ]
  },
  {
   "cell_type": "markdown",
   "id": "e91962e1-d6e4-4710-a95e-4b79cccb26bf",
   "metadata": {},
   "source": [
    "You can combine `.loc` with the column names"
   ]
  },
  {
   "cell_type": "code",
   "execution_count": null,
   "id": "b1dcfe6f-5848-4489-ab06-47b42597665c",
   "metadata": {},
   "outputs": [],
   "source": [
    "# select elements with labels 23, 89, and 250 of the \"temperature\" column\n",
    "df.loc[[23, 89, 250], \"temperature\"]"
   ]
  },
  {
   "cell_type": "code",
   "execution_count": null,
   "id": "652c0aa4-5a8e-4e13-bdc4-3cc01a2cc048",
   "metadata": {},
   "outputs": [],
   "source": [
    "# select elements with labels 23, 89, and 250 of the \"lat\" and \"lon\" column\n",
    "df.loc[[23, 89, 250], [\"lat\", \"lon\"]]"
   ]
  },
  {
   "cell_type": "markdown",
   "id": "81956fc0-a5ef-47d8-95c5-1c7526d05897",
   "metadata": {},
   "source": [
    "Note that it always keeps track of the indexes in the original `pandas.DataFrame`.\n",
    "\n",
    "You can also access rows by their integer position using .iloc. Remember that Python is zero based"
   ]
  },
  {
   "cell_type": "code",
   "execution_count": null,
   "id": "0225a3ca-8109-48ef-96f7-3f1c3d4db537",
   "metadata": {},
   "outputs": [],
   "source": [
    "df.iloc[10] # This selects the 11th row of the DataFrame"
   ]
  },
  {
   "cell_type": "markdown",
   "id": "794a134b-6ceb-483f-8974-7a970096887e",
   "metadata": {},
   "source": [
    "The usual slicing works as well"
   ]
  },
  {
   "cell_type": "code",
   "execution_count": null,
   "id": "e58b721f-f3c6-4db1-8d6f-47af9c6e94b6",
   "metadata": {},
   "outputs": [],
   "source": [
    "df.iloc[7:15]"
   ]
  },
  {
   "cell_type": "code",
   "execution_count": null,
   "id": "539e9ab6-f970-404c-b2d3-a971c8295c89",
   "metadata": {},
   "outputs": [],
   "source": [
    "df.iloc[:100:10]"
   ]
  },
  {
   "cell_type": "markdown",
   "id": "cc90efd0-0b67-46c7-8ac4-1c4d7934eacc",
   "metadata": {},
   "source": [
    "And lists too:"
   ]
  },
  {
   "cell_type": "code",
   "execution_count": null,
   "id": "d7af3434-ff90-418a-ac85-51b5d2037262",
   "metadata": {},
   "outputs": [],
   "source": [
    "print(df.iloc[[56, 8, 333, 1000, 13, 75]])"
   ]
  },
  {
   "cell_type": "markdown",
   "id": "8c1a0ea6-e223-481a-997b-e6712e66a2da",
   "metadata": {},
   "source": [
    "When you are using `.iloc` and only want to access a specific column, you have to specify it by its column number"
   ]
  },
  {
   "cell_type": "code",
   "execution_count": null,
   "id": "5ee3a7ca-6f5b-47c9-be0c-8b8d41f4367e",
   "metadata": {},
   "outputs": [],
   "source": [
    "# select element 8th row of the 6th column\n",
    "df.iloc[7,  5] # temperature is in the 6th column"
   ]
  },
  {
   "cell_type": "markdown",
   "id": "1bfc7047-7aee-4d74-9ed6-6d5c17b6253c",
   "metadata": {},
   "source": [
    "## Working with Date/Time\n",
    "\n",
    "For time series, it is useful to set the time column as the index. We first have to tell Python which column has the date and time information and change the data type\n",
    "\n",
    "Let's have a look at the first item of the time column"
   ]
  },
  {
   "cell_type": "code",
   "execution_count": null,
   "id": "35cfcf5b-c376-4571-ba96-13618a6d719d",
   "metadata": {},
   "outputs": [],
   "source": [
    "df[\"time\"].iloc[0]"
   ]
  },
  {
   "cell_type": "markdown",
   "id": "87660307-9f8a-4ce4-9fdb-b2d922ef5bca",
   "metadata": {},
   "source": [
    "and see what data type it is"
   ]
  },
  {
   "cell_type": "code",
   "execution_count": null,
   "id": "bb1e1036-dc9a-4142-bfab-df794c22b750",
   "metadata": {},
   "outputs": [],
   "source": [
    "type(df[\"time\"].iloc[0])"
   ]
  },
  {
   "cell_type": "markdown",
   "id": "53bccfa2-a9e9-4950-b04b-3e49ec6c90e1",
   "metadata": {},
   "source": [
    "It is a string which is formatted in a specific way that allows us to extract the individual parts of the date and time using the `to_datetime` function of `pandas`:"
   ]
  },
  {
   "cell_type": "code",
   "execution_count": null,
   "id": "7a631189-f01c-4702-a14d-24f20fab7875",
   "metadata": {},
   "outputs": [],
   "source": [
    "df[\"time\"] = pd.to_datetime(df[\"time\"], format=\"%Y-%m-%dT%H:%M:%SZ\")\n",
    "\n",
    "# Check the result\n",
    "df['time'].iloc[0]"
   ]
  },
  {
   "cell_type": "code",
   "execution_count": null,
   "id": "3cc9cc82-b7de-473e-9ceb-50b29eb94365",
   "metadata": {},
   "outputs": [],
   "source": [
    "type(df['time'].iloc[0])"
   ]
  },
  {
   "cell_type": "markdown",
   "id": "97e5c720-a7f3-48af-b248-ee73f3819933",
   "metadata": {},
   "source": [
    "Now that we successfully formatted our time column, we will use it to replace the (meaningless) integer labels:"
   ]
  },
  {
   "cell_type": "code",
   "execution_count": null,
   "id": "79597cc2-53a5-4365-8143-b4d61c40a0f8",
   "metadata": {},
   "outputs": [],
   "source": [
    "df = df.set_index('time')\n",
    "\n",
    "df.head()"
   ]
  },
  {
   "cell_type": "markdown",
   "id": "f4789725-799d-41b8-a28c-2ec1bcce7571",
   "metadata": {},
   "source": [
    "We know that the glider was released outside Halifax and travelled to the shelf break and back. I know that it turned around around 3:30 in the morning on  November 8th, 2015. In order to subset the data from the outward leg, We can simply select all data until the day before"
   ]
  },
  {
   "cell_type": "code",
   "execution_count": null,
   "id": "53f08fa5-66d2-42e1-ad62-0fda2e517525",
   "metadata": {},
   "outputs": [],
   "source": [
    "dfs = df.loc[:\"2015-11-07\"]"
   ]
  },
  {
   "cell_type": "markdown",
   "id": "279fb33f-3b5e-476e-89d4-6408d170dc2a",
   "metadata": {},
   "source": [
    "## Advanced Plotting\n",
    "\n",
    "Note that we will use functions from the `matplotlib` package which we imported above.\n",
    "\n",
    "We have a very rich dataset at our fingertips with temporal and spatial information of multiple parameters. Before you start using it for science, it is good practice to have a look at your raw data and explore them.\n",
    "\n",
    "In the last tutorial we introduced the basic plotting functionalities. Now we want to be more explicit with the setup and design of our plots. This This requires a few more lines of code, but it gives us more flexibility."
   ]
  },
  {
   "cell_type": "code",
   "execution_count": null,
   "id": "900b040b-a9df-404f-9b95-dfd804df5d80",
   "metadata": {},
   "outputs": [],
   "source": [
    "# First, set up a figure of a certain size with one subplot\n",
    "fig, ax = plt.subplots(nrows=1, ncols=1, figsize=(9.3, 7.5))\n",
    "\n",
    "# We now have two variables which refer to the entire figure (fix) and the axis\n",
    "# of the subplot (ax), respectively. Later we will see how we can use the same\n",
    "# syntax to create one figure with multiple subplots (axes).\n",
    "\n",
    "# Since we now have direct access to the axis, we can use this to plot the glider\n",
    "# depth as a function of time - remember that time is in the index\n",
    "ax.plot(df.index, df[\"depth\"],\n",
    "        color=\"grey\",\n",
    "        label=\"Whole Mission\")\n",
    "\n",
    "# On the same axis, we now plot the subset of the outward leg (subsetted DataFrame `dfs`) in blue\n",
    "ax.plot(dfs.index, dfs['depth'],\n",
    "        color='C0',\n",
    "        label='Outward Leg')\n",
    "\n",
    "# invert y-axis\n",
    "ax.invert_yaxis()\n",
    "\n",
    "# set a legend\n",
    "ax.legend()\n",
    "\n",
    "# set label and title\n",
    "ax.set_ylabel('Depth [m]')\n",
    "ax.set_title('otn200_20151027_53_delayed')"
   ]
  },
  {
   "cell_type": "markdown",
   "id": "63415df4-1ef0-4ab4-b02f-648d1c960757",
   "metadata": {},
   "source": [
    "If you were to zoom in, the gray ad blue areas are actually lines that go up and down. However, due to the high temporal resolution they appear as a continous area.\n",
    "\n",
    "Let's create a new plot for zoom in on the subset of the outward leg. We know from the DataFrame that temperature, salinity, and density were measured simultaneously, so we will create one figure with three subplots (axes)."
   ]
  },
  {
   "cell_type": "code",
   "execution_count": null,
   "id": "88e110d0-e966-4091-b333-fdda0acc2f02",
   "metadata": {},
   "outputs": [],
   "source": [
    "# Create a figure with three axes\n",
    "fig, (ax1, ax2, ax3) = plt.subplots(nrows=3, ncols=1,\n",
    "                                    figsize=(7.5, 9.3),\n",
    "                                    sharex=True, sharey=True)\n",
    "\n",
    "# First axis: temperature -----------------------------------------------------\n",
    "sc = ax1.scatter(\n",
    "    dfs.index, dfs[\"depth\"],\n",
    "    c=dfs[\"temperature\"],    # `c` determines the variable that is used to specify the coloring\n",
    "    s=3,                     # `s` is the size of the scattered dots\n",
    "    cmap=cmo.thermal         # `cmap` specifies the colormap\n",
    ")        \n",
    "\n",
    "# colorbar\n",
    "fig.colorbar(sc, ax=ax1)\n",
    "\n",
    "# title and y-label\n",
    "ax1.set_title(\"Temperature [degC]\") # always include units of your variables!\n",
    "ax1.set_ylabel(\"Depth [m]\")\n",
    "\n",
    "# Second axis: temperature ----------------------------------------------------\n",
    "sc = ax2.scatter(\n",
    "    dfs.index, dfs[\"depth\"],\n",
    "    c=dfs[\"salinity\"],\n",
    "    s=3,\n",
    "    cmap=cmo.haline\n",
    ")\n",
    "\n",
    "# colorbar\n",
    "fig.colorbar(sc, ax=ax2)\n",
    "\n",
    "# title and y-label\n",
    "ax2.set_title(\"Salinity [-]\")\n",
    "ax2.set_ylabel(\"Depth [m]\")\n",
    "\n",
    "# Third axis: temperature -----------------------------------------------------\n",
    "sc = ax3.scatter(\n",
    "    dfs.index, dfs[\"depth\"],\n",
    "    c=dfs[\"density\"],\n",
    "    s=3,\n",
    "    cmap=cmo.dense\n",
    ")\n",
    "\n",
    "# colorbar\n",
    "fig.colorbar(sc, ax=ax3)\n",
    "\n",
    "# title and y-label\n",
    "ax3.set_title(\"Density [kg/m3]\")\n",
    "ax3.set_ylabel(\"Depth [m]\")\n",
    "\n",
    "# We specified above that all subplots share the x- and y-axis. That means we\n",
    "# only need to adjust the last one:\n",
    "\n",
    "# invert y-axis\n",
    "# ax3.invert_yaxis()\n",
    "\n",
    "# set axis limits\n",
    "ax3.set_xlim((dfs.iloc[0].name, dfs.iloc[-1].name))\n",
    "ax3.set_ylim(210, 0)"
   ]
  },
  {
   "cell_type": "markdown",
   "id": "64bf4d38-157d-4e47-9664-a8a52af0a9bb",
   "metadata": {},
   "source": [
    "If you were to zoom into the figures, these figures are made of small little dots that are scattered depending on their depth and time information an whose color is determined by the value of respective variable.\n",
    "\n",
    "You may want to show this plot to your supervisor or send it to your friends. Therefore, we save the the figure as a PNG file:"
   ]
  },
  {
   "cell_type": "code",
   "execution_count": null,
   "id": "5415bfcf-e05d-4bb6-90af-117f672c570c",
   "metadata": {},
   "outputs": [],
   "source": [
    "# first we have to specify the directory where we want to save the file in.\n",
    "# Note that we have specified the variable `dispdir` above when we read the data.\n",
    "# Based on that directory we can specify a subdirectory `reports` that includes a \n",
    "# subfolder `figures`.\n",
    "figdir = dispdir / \"figures\"\n",
    "\n",
    "# the following command creates the directory `figdir` if it does not yet exist\n",
    "figdir.mkdir(parents=True, exist_ok=True)\n",
    "\n",
    "# safe file into new directory\n",
    "fig.savefig(figdir / \"otn200_20151027_53_delayed_TSD_outward_leg.png\")"
   ]
  },
  {
   "cell_type": "markdown",
   "id": "1bdbbed4-b3a8-4fad-8467-8baf53bd3c1f",
   "metadata": {},
   "source": [
    "You can now go to your file browser and verify that the plot has been saved in the specified directory.\n",
    "\n",
    "## Saving Data\n",
    "\n",
    "As a final step, we save the subset of our original DataFrame. This allows us to reuse the data without going through all the whole subsetting steps again. I like to store pandas DataFrames as HDF files because it preserves all the labels. It is a binary data format which means that you won't be able to have a look at the data with a normal text editor (which isn't necessarily a bad thing).\n",
    "\n",
    "It is good practice to keep your processed data separate from your raw data."
   ]
  },
  {
   "cell_type": "code",
   "execution_count": null,
   "id": "634ee7fd-9068-4455-bf42-6c73d3f57174",
   "metadata": {},
   "outputs": [],
   "source": [
    "# first, specify the directory where we want to save the file in.\n",
    "processed_dir = dispdir / \"data\" / \"processed\"\n",
    "\n",
    "# the following command creates the directory `figdir` if it does not yet exist\n",
    "processed_dir.mkdir(parents=True, exist_ok=True)\n",
    "\n",
    "# create an HDF store (note the *.h5 suffix)\n",
    "store = pd.HDFStore(processed_dir / \"otn200_20151027_53_delayed_outward_leg.h5\")\n",
    "\n",
    "# write DataFrame to store\n",
    "store.put('df', dfs, data_columns=dfs.columns)\n",
    "\n",
    "# close file\n",
    "store.close()"
   ]
  },
  {
   "cell_type": "markdown",
   "id": "dc769d2b-66e1-4652-b95a-3e6eb55adbe1",
   "metadata": {},
   "source": [
    "If you prefer to store your data into a *.csv file which you can read with a\n",
    "text editor or even Microsoft Excel"
   ]
  },
  {
   "cell_type": "code",
   "execution_count": null,
   "id": "7a7b46dd-0864-4c8c-bc8b-7565e2dedf9b",
   "metadata": {},
   "outputs": [],
   "source": [
    "dfs.to_csv(processed_dir / \"otn200_20151027_53_delayed_outward_leg.csv\")"
   ]
  }
 ],
 "metadata": {
  "kernelspec": {
   "display_name": "Python 3 (ipykernel)",
   "language": "python",
   "name": "python3"
  },
  "language_info": {
   "codemirror_mode": {
    "name": "ipython",
    "version": 3
   },
   "file_extension": ".py",
   "mimetype": "text/x-python",
   "name": "python",
   "nbconvert_exporter": "python",
   "pygments_lexer": "ipython3",
   "version": "3.9.9"
  }
 },
 "nbformat": 4,
 "nbformat_minor": 5
}
