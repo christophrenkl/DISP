{
 "cells": [
  {
   "cell_type": "markdown",
   "id": "55435e83-e5f8-47da-be12-0e59ab67ed3a",
   "metadata": {},
   "source": [
    "# Python Tutorial 04: for-Loops and Custom Functions\n",
    "\n",
    "In this tutorial, we will introduce `for`-loops and learn how to write your own functions. If you spot any mistakes or issues, please report them to christoph.renkl@dal.ca.\n",
    "\n",
    "## for-Loops\n",
    "\n",
    "You may face a situation where you want to apply the same operation or analysis to multiple elements in an array or different variables. It is good practice to write your code in a flexible way and without repetition. This is where `for`-loops become useful because they allow you to iteratively run through a section of code. A `for`-loop is characterized by an iterator which changes its values each time you execute the code within the loop. An iterator can be just a sequence of numbers, but you can also iterate through items of lists, arrays, and even rows of pandas DataFrames."
   ]
  },
  {
   "cell_type": "code",
   "execution_count": null,
   "id": "7cdd6eda-ddc6-49b4-8113-6fb4e960a8ea",
   "metadata": {},
   "outputs": [],
   "source": [
    "# Let's first define a list\n",
    "lst = [\"dog\", \"cat\", \"mouse\", \"elefant\", \"tiger\", \"snake\", \"squirrel\"]\n",
    "\n",
    "# Now we loop through the list and print out each item individually\n",
    "for ii in range(len(lst)):\n",
    "    print(f\"The item with index {ii} is {lst[ii]}\")"
   ]
  },
  {
   "cell_type": "markdown",
   "id": "34d59b8f-bd4d-4677-a745-28bc2e853491",
   "metadata": {},
   "source": [
    "In the `for`-loop above, `ii` is the iterator which changes value every time we run through the loop. The values of `ii` are determined by the function `range()` which creates a sequence with length equal to that integer argument provided. In this example we use the `len()` function to determine the length of `lst` to create a sequence of equal length.\n",
    "\n",
    "Note the indentation - the indented block is the sequence of code that is executed for each iterator.\n",
    "\n",
    "If you are only interested in the values, but not the index of the list, you can loop through the list itself and the iterator takes on the value each item:"
   ]
  },
  {
   "cell_type": "code",
   "execution_count": null,
   "id": "0643c0eb-e164-45b1-8e47-faaf3242bef3",
   "metadata": {},
   "outputs": [],
   "source": [
    "for item in lst:\n",
    "    print(f\"The item is {item}\")"
   ]
  },
  {
   "cell_type": "markdown",
   "id": "7f18dd56-83fe-46a2-882d-7cfa9f54d927",
   "metadata": {},
   "source": [
    "You can rewrite the first `for`-loop using the `enumerate()` function. This returns both the index and the value of an item:"
   ]
  },
  {
   "cell_type": "code",
   "execution_count": null,
   "id": "949327d0-240b-4d77-834f-77fa53fc947b",
   "metadata": {},
   "outputs": [],
   "source": [
    "for ii, item in enumerate(lst):\n",
    "    print(f\"The item with index {ii} is {lst[ii]}\")"
   ]
  },
  {
   "cell_type": "markdown",
   "id": "8a6ca95d-040e-46e3-ab81-a67fad33edd6",
   "metadata": {},
   "source": [
    "Lists can also be modified through so-called \"list comprehension\" which is basically a `for`-loop in one line enclosed by backets. The following example adds the string \"a\" to each item in the list.`"
   ]
  },
  {
   "cell_type": "code",
   "execution_count": null,
   "id": "5cbf9f36-47ad-4d70-bfe0-0a6814283329",
   "metadata": {},
   "outputs": [],
   "source": [
    "[\"a \"+item for item in lst]"
   ]
  },
  {
   "cell_type": "markdown",
   "id": "5a479a4b-55da-40d1-83a8-ec424ca2bcc7",
   "metadata": {},
   "source": [
    "Note that the 4th element is gramatically incorrect. You could add an `if` statement inside the for loop to check whether or not the first letter of each item in `lst` is a vowel. If the condition is met, you could add the string \"an\" to the item. Feel free to use the following free cell to try it out!"
   ]
  },
  {
   "cell_type": "code",
   "execution_count": null,
   "id": "37f8abfb-f53b-47e4-b6a6-089ed024248f",
   "metadata": {},
   "outputs": [],
   "source": []
  },
  {
   "cell_type": "markdown",
   "id": "64a5de39-0668-47da-bdc9-60690aab170b",
   "metadata": {},
   "source": [
    "## Custom Functions\n",
    "\n",
    "If you want to reuse your code in other scripts you should write your own functions rather than copying code snipppets back and forth. Here are a few examples how to write custom functions."
   ]
  },
  {
   "cell_type": "code",
   "execution_count": null,
   "id": "52f5ea8d-fea3-4bc9-8f5d-06b4fd4092c5",
   "metadata": {},
   "outputs": [],
   "source": [
    "# Define a function\n",
    "def in_list(lst, val):\n",
    "    \"\"\"A function to check if val is an item in lst\"\"\"\n",
    "    \n",
    "    # if-statement to check the existance of val in lst\n",
    "    if val in lst:\n",
    "        \n",
    "        # Find index of val in list\n",
    "        idx = lst.index(val)\n",
    "        \n",
    "        # prepare answer \n",
    "        answer = f\"Yes, {val} has index {idx} in the list.\"\n",
    "        \n",
    "    else:\n",
    "        \n",
    "        # prepare answer \n",
    "        answer = f\"No, {val} is not in the list.\"\n",
    "\n",
    "    # return the answer\n",
    "    return answer"
   ]
  },
  {
   "cell_type": "markdown",
   "id": "046887ce-a832-4e91-a407-18358088de6e",
   "metadata": {},
   "source": [
    "As with `for`-loops and `if` statements, indentation is key! Everything below the line that starts with `def` and is indented is part of the function.\n",
    "\n",
    "Now, test the function:"
   ]
  },
  {
   "cell_type": "code",
   "execution_count": null,
   "id": "8bafb3c6-cbfd-4be4-98c5-7d0a0199c1ed",
   "metadata": {},
   "outputs": [],
   "source": [
    "ans = in_list(lst, 'cat')\n",
    "ans"
   ]
  },
  {
   "cell_type": "code",
   "execution_count": null,
   "id": "fbe48bd0-a15b-4048-93c4-a31b16581683",
   "metadata": {},
   "outputs": [],
   "source": [
    "ans = in_list(lst, 'porcupine')\n",
    "ans"
   ]
  },
  {
   "cell_type": "code",
   "execution_count": null,
   "id": "b8a296ec-52be-43ba-a570-2cf439744239",
   "metadata": {},
   "outputs": [],
   "source": [
    "# Same function with default argument\n",
    "def in_list2(lst, val='mouse'):\n",
    "    '''A function to check if val is an item in lst'''\n",
    "    \n",
    "    # if-statement to check the existance of val in lst\n",
    "    if val in lst:\n",
    "        \n",
    "        # Find index of val in list\n",
    "        idx = lst.index(val)\n",
    "        \n",
    "        # prepare answer \n",
    "        answer = 'Yes, {0} has index {1} in the list.'.format(val, idx)\n",
    "        \n",
    "    else:\n",
    "        \n",
    "        # prepare answer \n",
    "        answer = 'No, {} is not in the list.'.format(val)\n",
    "\n",
    "    # return the answer to script\n",
    "    return answer"
   ]
  },
  {
   "cell_type": "markdown",
   "id": "fd451b42-c9f6-4482-badb-ea7c9ff61c45",
   "metadata": {},
   "source": [
    "Now, test the new function"
   ]
  },
  {
   "cell_type": "code",
   "execution_count": null,
   "id": "5eef88ea-df38-4486-aa01-7be3c52f86a8",
   "metadata": {},
   "outputs": [],
   "source": [
    "ans = in_list2(lst) # we do not specify a second argument and therefore the default argument \"mouse\" is use.\n",
    "ans"
   ]
  },
  {
   "cell_type": "code",
   "execution_count": null,
   "id": "0738df20-cbd9-4ba8-ada2-745db6a90410",
   "metadata": {},
   "outputs": [],
   "source": [
    "ans = in_list2(lst, 'zebra')\n",
    "ans"
   ]
  },
  {
   "cell_type": "code",
   "execution_count": null,
   "id": "56376c4c-a210-4798-ae52-77fe4379ee4c",
   "metadata": {},
   "outputs": [],
   "source": []
  }
 ],
 "metadata": {
  "kernelspec": {
   "display_name": "Python 3 (ipykernel)",
   "language": "python",
   "name": "python3"
  },
  "language_info": {
   "codemirror_mode": {
    "name": "ipython",
    "version": 3
   },
   "file_extension": ".py",
   "mimetype": "text/x-python",
   "name": "python",
   "nbconvert_exporter": "python",
   "pygments_lexer": "ipython3",
   "version": "3.9.9"
  }
 },
 "nbformat": 4,
 "nbformat_minor": 5
}
