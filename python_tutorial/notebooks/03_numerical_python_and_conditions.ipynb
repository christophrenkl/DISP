{
 "cells": [
  {
   "cell_type": "markdown",
   "id": "e6860291-2f30-4a44-abfa-a6b330d1a269",
   "metadata": {},
   "source": [
    "# Python Tutorial 03: Numerical Python and Conditions\n",
    "\n",
    "This script provides you with an introduction tp numerical Python using the widely known package 'NumPy'. We will also introduce loops and conditions which make your data wrangling easier. If you spot any mistakes or issues, please report them to christoph.renkl@dal.ca.\n",
    "\n",
    "## Numerical Python using NumPy\n",
    "\n",
    "So far, we have learned about high-level number data types and containers. NumPy offers you an extension for multidimensional arrays and it also comes with a lot of useful functions which are written in a way that you can apply operations to each element in the array very efficiently."
   ]
  },
  {
   "cell_type": "code",
   "execution_count": null,
   "id": "8dd99167-9a4d-440b-85b0-e978b5f921e3",
   "metadata": {},
   "outputs": [],
   "source": [
    "# Import the NumPy package\n",
    "import numpy as np"
   ]
  },
  {
   "cell_type": "markdown",
   "id": "1e3cf2c2-94c0-4503-8d5d-da61b6acb3b8",
   "metadata": {},
   "source": [
    "Create a 1D array a.k.a. vector. We do this by providing a list to the np.array() function"
   ]
  },
  {
   "cell_type": "code",
   "execution_count": null,
   "id": "b2545e0a-2402-4bdb-af36-81c5434f696b",
   "metadata": {},
   "outputs": [],
   "source": [
    "vec = np.array([1, 2, 3, 4, 5, 6, 7, 8, 9, 10])\n",
    "vec"
   ]
  },
  {
   "cell_type": "markdown",
   "id": "d16e6cb5-5585-4426-8753-8ef8aecc1b33",
   "metadata": {},
   "source": [
    "Let's do some math"
   ]
  },
  {
   "cell_type": "code",
   "execution_count": null,
   "id": "eef9ec37-7bcd-4ef0-91d9-2257bf38dc6f",
   "metadata": {},
   "outputs": [],
   "source": [
    "vec + 3   # add 3 to each element in array"
   ]
  },
  {
   "cell_type": "code",
   "execution_count": null,
   "id": "b66c500f-98f9-4005-a8de-690172c3ff6f",
   "metadata": {},
   "outputs": [],
   "source": [
    "vec - 7   # subtract 7 from each element in array"
   ]
  },
  {
   "cell_type": "code",
   "execution_count": null,
   "id": "4cd1c0c9-1e55-418e-a1b4-6d3e3aebe79c",
   "metadata": {},
   "outputs": [],
   "source": [
    "vec * 10  # multiply each element by 10"
   ]
  },
  {
   "cell_type": "code",
   "execution_count": null,
   "id": "f25fac81-4e3b-486a-b9ca-5980dbe6628f",
   "metadata": {},
   "outputs": [],
   "source": [
    "vec / 10  # divide each element by 10"
   ]
  },
  {
   "cell_type": "code",
   "execution_count": null,
   "id": "2b7d5edf-6b6a-4ae1-8c9b-1d04b751f5d4",
   "metadata": {},
   "outputs": [],
   "source": [
    "vec ** 2  # raise each element to the power of 2"
   ]
  },
  {
   "cell_type": "markdown",
   "id": "37ea88ed-89c0-4039-9d83-1a89ce63c222",
   "metadata": {},
   "source": [
    "Python itself does not know about square roots - in order to compute the square root of a particular number, you could raise it to the power of 1/2 which is mathematically the same. Note that you have to set parantheses around the exponent to compute it before the exponentiation."
   ]
  },
  {
   "cell_type": "code",
   "execution_count": null,
   "id": "b75d068c-d7db-410d-9807-3a1c4ac91bb3",
   "metadata": {},
   "outputs": [],
   "source": [
    "# compute square root of 16 using native Python\n",
    "16 ** (1/2)"
   ]
  },
  {
   "cell_type": "markdown",
   "id": "5d7096a3-cf9f-4e4f-b848-bd34bcdfb26e",
   "metadata": {},
   "source": [
    "NumPy has a function for this computation:"
   ]
  },
  {
   "cell_type": "code",
   "execution_count": null,
   "id": "f0055d89-1ad0-4930-b1b5-6e80a218c059",
   "metadata": {},
   "outputs": [],
   "source": [
    "np.sqrt(16) # the `np.` at the front indicates that we use the function from the function `sqrt` of the `numpy` package"
   ]
  },
  {
   "cell_type": "markdown",
   "id": "39948a8d-753d-4111-90ff-f90bf330730b",
   "metadata": {},
   "source": [
    "This function also works for arrays"
   ]
  },
  {
   "cell_type": "code",
   "execution_count": null,
   "id": "dc3f890d-6c7c-41be-9064-baf2102331ca",
   "metadata": {},
   "outputs": [],
   "source": [
    "np.sqrt(vec)  # calculate square root of each element"
   ]
  },
  {
   "cell_type": "markdown",
   "id": "3a519c0a-aca3-4bb0-abad-ffd80ba76fcb",
   "metadata": {},
   "source": [
    "We can also create arrays with higher dimensions providing a list with one list per dimension"
   ]
  },
  {
   "cell_type": "code",
   "execution_count": null,
   "id": "22046028-f537-4dae-b9be-0bede95ad397",
   "metadata": {},
   "outputs": [],
   "source": [
    "arr = np.array([[1, 2, 3], [4, 5, 6]]) # 2D array (matrix), each list becomes a\n",
    "                                       # row in the array\n",
    "arr"
   ]
  },
  {
   "cell_type": "markdown",
   "id": "b270c221-ba9b-4391-86b7-df74e56cd837",
   "metadata": {},
   "source": [
    "To get information about arrays we can use the attributes `ndim` and `shape`"
   ]
  },
  {
   "cell_type": "code",
   "execution_count": null,
   "id": "3121d8e5-dc21-43a0-9b99-1bce9af52c32",
   "metadata": {},
   "outputs": [],
   "source": [
    "arr.ndim # number of dimensions = 2, rows and columns"
   ]
  },
  {
   "cell_type": "code",
   "execution_count": null,
   "id": "13565ba1-bbbf-4f58-acb0-1e77b90b2f21",
   "metadata": {},
   "outputs": [],
   "source": [
    "arr.shape # number of elements in each dimension"
   ]
  },
  {
   "cell_type": "markdown",
   "id": "8450d3b8-be6c-4d6a-a00d-5733c215a812",
   "metadata": {},
   "source": [
    "There are more ways of creating arrays"
   ]
  },
  {
   "cell_type": "code",
   "execution_count": null,
   "id": "fae845b8-892b-4690-906b-80621c643a8a",
   "metadata": {},
   "outputs": [],
   "source": [
    "arr1 = np.arange(1, 11, 1)   # start, end (exclusive), increment\n",
    "arr1"
   ]
  },
  {
   "cell_type": "code",
   "execution_count": null,
   "id": "54062687-ea8c-4dbe-b888-180b1809df31",
   "metadata": {},
   "outputs": [],
   "source": [
    "arr2 = np.linspace(0, 1, 6)  # start, end, number of elements\n",
    "arr2"
   ]
  },
  {
   "cell_type": "code",
   "execution_count": null,
   "id": "f0e3d93b-e859-46c9-9bec-2eff428f9638",
   "metadata": {},
   "outputs": [],
   "source": [
    "arr3 = np.ones((3, 4))       # 2D array with each element equal to 1\n",
    "arr3"
   ]
  },
  {
   "cell_type": "code",
   "execution_count": null,
   "id": "6e8ccded-b5a8-426e-ac21-158e96d4aeb5",
   "metadata": {},
   "outputs": [],
   "source": [
    "arr4 = np.zeros((3, 3, 2))   # 3D array with each element equal to 0\n",
    "arr4"
   ]
  },
  {
   "cell_type": "markdown",
   "id": "0f568360-db04-4178-9d66-d11a657b890f",
   "metadata": {},
   "source": [
    "Indexing works just like before. Remember Python is zero based."
   ]
  },
  {
   "cell_type": "code",
   "execution_count": null,
   "id": "c75a3933-f55b-4b8c-b66c-9a589d66d831",
   "metadata": {},
   "outputs": [],
   "source": [
    "arr1[3] # 4th element of arr1"
   ]
  },
  {
   "cell_type": "code",
   "execution_count": null,
   "id": "d805bae0-cc32-43f7-8807-9c690d044913",
   "metadata": {},
   "outputs": [],
   "source": [
    "arr2[-3:] # the last three elements of arr2"
   ]
  },
  {
   "cell_type": "code",
   "execution_count": null,
   "id": "71c3cb06-0169-4025-a932-adb66a1ee828",
   "metadata": {},
   "outputs": [],
   "source": [
    "arr3[1, :2] # element in first two columns (:2) in the second row (1) of arr3"
   ]
  },
  {
   "cell_type": "code",
   "execution_count": null,
   "id": "4f871bd5-30ef-4d08-863e-892b327a8518",
   "metadata": {},
   "outputs": [],
   "source": [
    "arr4[..., 1] # all rows and columns of the 3rd dimension of arr4"
   ]
  },
  {
   "cell_type": "markdown",
   "id": "f43d9005-24c0-4856-a296-09106e48e61d",
   "metadata": {},
   "source": [
    "## Conditions and if-Statements\n",
    "\n",
    "With conditions you can let Python answer simple yes/no questions. Generally, you compare two objects with an operator. The basic ones are\n",
    "\n",
    "* `==`:   equal to  \n",
    "*  `!=`:   not equal to  \n",
    "*  `>=`:   greater or equal to  \n",
    "*  `<=`:   less than or equal to  \n",
    "*  `>`:    greate than  \n",
    "*  `<`:    less than  \n",
    "*  `in`:   within/part of  \n",
    "\n",
    " A comparison always returns `True` or `False`"
   ]
  },
  {
   "cell_type": "code",
   "execution_count": null,
   "id": "b44b8875-2148-49f2-95f5-52ba136b61af",
   "metadata": {},
   "outputs": [],
   "source": [
    "7 == 5     # is 7 equal to 5"
   ]
  },
  {
   "cell_type": "code",
   "execution_count": null,
   "id": "4f27c23b-ba35-4a99-a773-46fc31e92e8d",
   "metadata": {},
   "outputs": [],
   "source": [
    "arr1 != 8  # is arr1 not equal to 8"
   ]
  },
  {
   "cell_type": "code",
   "execution_count": null,
   "id": "203cdeed-e1ec-4240-86d8-46051776d8e6",
   "metadata": {},
   "outputs": [],
   "source": [
    "arr1 >= 5  # is arr1 greater or equal to 5"
   ]
  },
  {
   "cell_type": "code",
   "execution_count": null,
   "id": "93875294-dd91-4a87-8757-1ed3f36227e3",
   "metadata": {},
   "outputs": [],
   "source": [
    "arr1 > 5   # is arr1 greater than 5"
   ]
  },
  {
   "cell_type": "code",
   "execution_count": null,
   "id": "193e9549-7312-4433-8c62-a7a1302273b4",
   "metadata": {},
   "outputs": [],
   "source": [
    "arr1 <= 5  # is arr1 smaller or equal to 5"
   ]
  },
  {
   "cell_type": "code",
   "execution_count": null,
   "id": "32ffef7f-bf0b-4f75-83b7-fd5be84c597c",
   "metadata": {},
   "outputs": [],
   "source": [
    "arr1 < 5   # is arr1 smaller than 5"
   ]
  },
  {
   "cell_type": "code",
   "execution_count": null,
   "id": "34ca4a6c-03c0-4ba2-965f-6b5f5fecf453",
   "metadata": {},
   "outputs": [],
   "source": [
    "17 in arr1 # is 17 within/part of arr1"
   ]
  },
  {
   "cell_type": "markdown",
   "id": "7df9392f-7c92-4e7e-8d46-d8d8d1b8161f",
   "metadata": {},
   "source": [
    "You can use the answer for logical accessing of parts of arrays"
   ]
  },
  {
   "cell_type": "code",
   "execution_count": null,
   "id": "8e86bcbe-024a-40a8-8800-29ddc2f81bca",
   "metadata": {},
   "outputs": [],
   "source": [
    "arr1[arr1 != 8] # return all elements of arr1 that are not equal to 8"
   ]
  },
  {
   "cell_type": "code",
   "execution_count": null,
   "id": "07c2ad30-8d2b-43d9-b20d-f914f1369aee",
   "metadata": {},
   "outputs": [],
   "source": [
    "arr1[arr1 > 5] # return all elements of arr1 that are larger than 5"
   ]
  },
  {
   "cell_type": "markdown",
   "id": "41f02621-ef14-40f2-b512-5948131a6153",
   "metadata": {},
   "source": [
    "Conditions are very useful when you want to execute certain parts of your script only when a certain criterion is met. This is done through if statements."
   ]
  },
  {
   "cell_type": "code",
   "execution_count": null,
   "id": "77db733e-b023-41bd-8b7a-ac9b0fb4726e",
   "metadata": {},
   "outputs": [],
   "source": [
    "# Define a short vector\n",
    "vec = np.array([23, 566, 8, 4646, 78, 51664, np.nan, 763, 6, 0, 123, 42, 9999])\n",
    "\n",
    "# define a value of interest\n",
    "val = 42\n",
    "\n",
    "# Set up the if-statement. You can read is as: \" if [val] is an element of\n",
    "# [vec], then print the message to the terminal\n",
    "if val in vec:\n",
    "    print(f\"Hooray, {val} is in the vector!\")"
   ]
  },
  {
   "cell_type": "markdown",
   "id": "6733606d-8df0-45a6-9285-40ee451004ee",
   "metadata": {},
   "source": [
    "Note that the indentation of four spaces after the is crucial! The condition you want to check is written after the word `if`. Everything that is indented will only be executed if the condition is met."
   ]
  },
  {
   "cell_type": "code",
   "execution_count": null,
   "id": "b26f935e-52e9-49e1-b047-0fb8030e4450",
   "metadata": {},
   "outputs": [],
   "source": [
    "# change the variable val    \n",
    "val = 17\n",
    "    \n",
    "# Now extend the if-statement for the case that the condition is not met:\n",
    "if val in vec:\n",
    "    print(f\"Hooray, {val} is in the vector!\")\n",
    "    \n",
    "else:       \n",
    "    print(f\"Sorry, {val} is NOT in the vector!\")"
   ]
  },
  {
   "cell_type": "markdown",
   "id": "76ee06a3-968d-4e2b-bbbc-75c44bb4375c",
   "metadata": {},
   "source": [
    "Play around with the value of `val` and see how the message changes."
   ]
  },
  {
   "cell_type": "markdown",
   "id": "0ac14937-cd7f-48c2-8655-36ede5ba95ac",
   "metadata": {},
   "source": [
    "We can also allow for a hierachy of conditions. If the first condition is not met, try another condition and use the else-statement as a last resort. \n",
    "\n",
    "First calculate the mean of our vector:"
   ]
  },
  {
   "cell_type": "code",
   "execution_count": null,
   "id": "806d97aa-67d7-4a0c-92f9-1c777107c3bd",
   "metadata": {},
   "outputs": [],
   "source": [
    "# we use the NumPy function `nanmean`\n",
    "vec_mean = np.nanmean(vec)"
   ]
  },
  {
   "cell_type": "code",
   "execution_count": null,
   "id": "2d6bff22-0ca5-48ac-94da-aed10d2de965",
   "metadata": {},
   "outputs": [],
   "source": [
    "# check if `val` is an element of the vector `vec`\n",
    "if val in vec:\n",
    "    print(f\"Hooray, {val} is in the vector!\")\n",
    "\n",
    "# if the first condition is not met, check if `val` is at least smaller\n",
    "# than the mean value of the vector\n",
    "elif val < vec_mean:   \n",
    "    print(f\"Too bad, {val} is not in the vector, but it is smaller\",\n",
    "          \"than the mean value of the vector!\")\n",
    "\n",
    "# if neither condition is met \n",
    "else:       \n",
    "    print(f\"Sorry, {val} is NOT in the vector!\")"
   ]
  },
  {
   "cell_type": "markdown",
   "id": "c14e5bfa-2497-4a76-9050-3a343f342afe",
   "metadata": {},
   "source": [
    "## Arrays and Conditions in Data Analysis\n",
    "\n",
    "We will now apply some of the concepts we have covered so far to real data."
   ]
  },
  {
   "cell_type": "code",
   "execution_count": null,
   "id": "35576d05-e173-457d-ad64-d9812b79e2df",
   "metadata": {},
   "outputs": [],
   "source": [
    "# Import all packages which we will need for the remainder this tutorial\n",
    "from pathlib import Path\n",
    "import cmocean.cm as cmo\n",
    "import matplotlib.pyplot as plt\n",
    "import xarray as xr # This is a great package which applies most of pandas\n",
    "                    # functionalities to multidimensional arrays. It is also a\n",
    "                    # great tool for working with NetCDF data files."
   ]
  },
  {
   "cell_type": "code",
   "execution_count": null,
   "id": "6dd020ac-7e73-483b-ad4c-5da5a6cce464",
   "metadata": {},
   "outputs": [],
   "source": [
    "# path to DISP directory\n",
    "dispdir = Path(\"/home/chrenkl/Projects/DISP/python_tutorial\")\n",
    "\n",
    "# full file name including path\n",
    "fname = dispdir / \"data\" / \"raw\" / \"bedford_basin_monitoring_program.nc\"\n",
    "\n",
    "# Read data - these are all CTD casts from the Bedford Basin Monitoring Program\n",
    "ds = xr.open_dataset(fname)\n",
    "\n",
    "# The variable 'ds' holds a xarray Dataset. Let's have a look at the content\n",
    "ds"
   ]
  },
  {
   "cell_type": "markdown",
   "id": "54e18828-1667-44b7-959c-023fdfadb4eb",
   "metadata": {},
   "source": [
    "As you can see, it has four data variables which are 2D arrays sharing the same coordinates time and pressure. Under the hood, the data variables are NumPy arrays and you can use them in the same way. The benefit of the `xarray.Dataset` is that it assigns names and labels to the rows and columns of the arrays which makes accessing certain values much easier and more explicit.\n",
    "\n",
    "It is good practice to keep your code flexible and less repetitive. The goal is to plot one of the data variables with appropriate labels showing the units of the variables. Wouldn't it be nice if we could write the code in a way that it knows which unit and color scheme to use just based on the name of the variable?"
   ]
  },
  {
   "cell_type": "code",
   "execution_count": null,
   "id": "f69df749-1976-4d1a-9e23-100338653969",
   "metadata": {},
   "outputs": [],
   "source": [
    "# Define a variable with the name of the temperature data in the `xarray.Dataset`\n",
    "vname = \"temperature\"\n",
    "\n",
    "# Create an if-statement that defines parameters according to the chosen variable\n",
    "\n",
    "# set parameters if variable is temperature\n",
    "if vname == \"temperature\":\n",
    "    units = r\"[$^\\circ$C]\" # units of temperature are degree Celsius\n",
    "    name = \"Temperature\" \n",
    "    cmap = cmo.thermal     # we choose the `thermal` colormap of the `cmocean` package\n",
    "    vmin = -2.             # the minimum value we want to show\n",
    "    vmax = 20.             # the maximum value we want to show\n",
    "    nlevels = 23           # number of contour levels\n",
    "\n",
    "# set parameters if variable is salinity\n",
    "elif vname == \"salinity\":\n",
    "    units = \"[-]\"          # salinity has no units\n",
    "    name = \"Salinity\"\n",
    "    cmap = cmo.haline      # we choose the `haline` colormap of the `cmocean` package\n",
    "    vmin = 28.\n",
    "    vmax = 32.\n",
    "    nlevels = 33           # number of contour levels\n",
    "\n",
    "# set parameters if variable is sigmaTheta (potential density anomaly of sea water)\n",
    "elif vname == \"sigmaTheta\":\n",
    "    units = r\"[kg m$^{-3}$]\"  # the units of of density are kg/m^3\n",
    "    name = r\"Potential Density Anomaly $\\sigma_{{\\theta}}$\"\n",
    "    cmap = cmo.dense          # we choose the `dense` colormap of the `cmocean` package\n",
    "    vmin = 21.\n",
    "    vmax = 25.5\n",
    "    nlevels = 37           # number of contour levels\n",
    "\n",
    "# set a default\n",
    "else:\n",
    "    units = ''\n",
    "    name = vname.capitalize()\n",
    "    cmap = \"viridis\"\n",
    "    vmin = ds[vname].min()\n",
    "    vmax = ds[vname].max()\n",
    "    nlevels = 31           # number of contour levels\n",
    "\n",
    "# Create title string\n",
    "title = f\"Bedford Basin Monitoring Program - {name}\""
   ]
  },
  {
   "cell_type": "markdown",
   "id": "624d5080-ca30-4012-afb2-b7ec42e469f8",
   "metadata": {},
   "source": [
    "Now we create the plot."
   ]
  },
  {
   "cell_type": "code",
   "execution_count": null,
   "id": "4fa775d3-5943-4b88-b24f-a5a77384baff",
   "metadata": {},
   "outputs": [],
   "source": [
    "# Set up a figure of a certain size with one subplot\n",
    "fig, ax = plt.subplots(nrows=1, ncols=1, figsize=(11., 4.5))\n",
    "\n",
    "# Plot the variable as a function of time (x-axis) and pressure (y-axis)\n",
    "cs = ax.contourf(\n",
    "    ds[\"time\"].values,                       # values on x-axis\n",
    "    ds[\"pressure\"],                          # values on y-axis\n",
    "    ds[vname].transpose(),                   # variable we want to plot   \n",
    "    levels=np.linspace(vmin, vmax, nlevels), # specify contour levels\n",
    "    cmap=cmap                                # colormap\n",
    ")  \n",
    "\n",
    "# invert y-axis\n",
    "ax.invert_yaxis()\n",
    "\n",
    "# colorbar\n",
    "cb = fig.colorbar(cs, ax=ax)\n",
    "\n",
    "# The colorbar has its own axis, put the units in the title\n",
    "cb.ax.set_title(units)\n",
    "\n",
    "# set label and title\n",
    "ax.set_ylabel(\"Depth [m]\")\n",
    "ax.set_title(title)\n",
    "\n",
    "# make sure the plot takes up all space on the figure\n",
    "fig.tight_layout()"
   ]
  },
  {
   "cell_type": "markdown",
   "id": "2ad0f6b2-3352-4d48-9915-8df001bac006",
   "metadata": {},
   "source": [
    "We want to save the plot in a dedicated directory. It is important to keep the the figures separately from your data. The idea is that we can always delete the folder with the figures and recreate the exact same plot with our code, just from the raw data. That is the beauty of reprodicible research!\n",
    "\n",
    "Note that we have specified the variable `dispdir` above when we read the data. Based on that directory we can specify a subdirectory `figures`."
   ]
  },
  {
   "cell_type": "code",
   "execution_count": null,
   "id": "d44fda97-4eaa-4d39-868e-113a30bb3553",
   "metadata": {},
   "outputs": [],
   "source": [
    "# create subdirectory for figures\n",
    "figdir = dispdir / \"figures\"\n",
    "\n",
    "# the following command creates the directory `figdir` if it does not yet exist.\n",
    "# (the if-statement is buried in the `mkdir` function)\n",
    "figdir.mkdir(parents=True, exist_ok=True)\n",
    "\n",
    "# save figure as a PDF\n",
    "fig.savefig(figdir / f\"bbmp_{vname}.pdf\")"
   ]
  },
  {
   "cell_type": "markdown",
   "id": "223d056f-b2d8-44ae-bbb2-8944304b2eaa",
   "metadata": {},
   "source": [
    "Play around by changing `vname` and see how the plot changes.\n",
    "\n",
    "All Variables show a seasonal cycle, but clearly, there is some interannual variability. With xarray, it is very easy to compute a monthly climatology:"
   ]
  },
  {
   "cell_type": "code",
   "execution_count": null,
   "id": "6f4ef653-9340-4137-aee3-198599a5ab5a",
   "metadata": {},
   "outputs": [],
   "source": [
    "# collect values of all Januaries, Februaries, Marches, ... and compute the mean along the `time` dimension.\n",
    "clim = ds.groupby('time.month').mean(dim='time')"
   ]
  },
  {
   "cell_type": "markdown",
   "id": "8f90c340-922a-4e84-912b-aa7bee6d522d",
   "metadata": {},
   "source": [
    "We can subtract the climatology from our original data to get anomalies"
   ]
  },
  {
   "cell_type": "code",
   "execution_count": null,
   "id": "a52375ba-af0e-4793-8c01-fff3aeb35531",
   "metadata": {},
   "outputs": [],
   "source": [
    "anom = ds.groupby('time.month') - clim"
   ]
  },
  {
   "cell_type": "markdown",
   "id": "6deeef8d-08d9-4b84-9dc7-7d751492d789",
   "metadata": {},
   "source": [
    "Now, let's have a look at one particular year."
   ]
  },
  {
   "cell_type": "code",
   "execution_count": null,
   "id": "fce0fee2-9e29-428d-a46a-b5f2c1e32f67",
   "metadata": {},
   "outputs": [],
   "source": [
    "# Define a variable with the year of interest defined as a string\n",
    "year = \"2018\""
   ]
  },
  {
   "cell_type": "markdown",
   "id": "6b716a90-d116-4fc2-9524-7815322b82d5",
   "metadata": {},
   "source": [
    "It is straightforward to create a subset with anomalies for this year"
   ]
  },
  {
   "cell_type": "code",
   "execution_count": null,
   "id": "a6c51f33-1ea3-4d70-8bc6-e16137d53f02",
   "metadata": {},
   "outputs": [],
   "source": [
    "# select anomalies for the chosen year\n",
    "dsyear = anom.sel(time=year)\n",
    "dsyear"
   ]
  },
  {
   "cell_type": "markdown",
   "id": "86906cf4-72fb-47df-952b-7a3d940a548b",
   "metadata": {},
   "source": [
    "Note that we now have a smaller subset of the original data. Now we want to plot this subset.\n",
    "\n",
    "We can use almost the same code as above to create a time series of nomalies: "
   ]
  },
  {
   "cell_type": "code",
   "execution_count": null,
   "id": "560029b1-a14d-456e-b95e-5e544498b1d0",
   "metadata": {},
   "outputs": [],
   "source": [
    "# redefine vmin, vmax, and nlevels\n",
    "vmax = np.floor(abs(anom[vname]).max())\n",
    "vmin = -vmax\n",
    "nlevels = int((vmax - vmin)) * 2 + 1\n",
    "\n",
    "# Set up a figure of a certain size with one subplot\n",
    "fig, ax = plt.subplots(nrows=1, ncols=1, figsize=(11., 4.5))\n",
    "\n",
    "# Plot the variable as a function of time and pressure\n",
    "cs = ax.contourf(\n",
    "    dsyear['time'].values,\n",
    "    dsyear['pressure'],\n",
    "    dsyear[vname].transpose(),\n",
    "    np.linspace(vmin, vmax, nlevels),\n",
    "    cmap=cmo.balance\n",
    ")\n",
    "\n",
    "# invert y-axis\n",
    "ax.invert_yaxis()\n",
    "\n",
    "# colorbar\n",
    "cb = fig.colorbar(cs, ax=ax)\n",
    "\n",
    "# The colorbar has its own axis, put the units in the title\n",
    "cb.ax.set_title(units)\n",
    "\n",
    "# set label and title\n",
    "ax.set_ylabel('Depth [m]')\n",
    "ax.set_title(title + ' Anomalies')\n",
    "\n",
    "# make sure the plot takes up all space on the figure\n",
    "fig.tight_layout()\n",
    "\n",
    "# save figure as a PDF, note that we already defined and created `figdir` above\n",
    "fig.savefig(figdir / f\"bbmp_{vname}_anomalies.pdf\")"
   ]
  },
  {
   "cell_type": "markdown",
   "id": "fb433c06-a817-495e-93aa-4d50edf5581a",
   "metadata": {},
   "source": [
    "When you are done analyzing a `xarray.Dataset`, you should close it so it does not take up any memory"
   ]
  },
  {
   "cell_type": "code",
   "execution_count": null,
   "id": "837a26b4-9877-4b70-a680-d609315c17ab",
   "metadata": {},
   "outputs": [],
   "source": [
    "# close datasets\n",
    "dsyear.close()\n",
    "ds.close()"
   ]
  }
 ],
 "metadata": {
  "kernelspec": {
   "display_name": "Python 3 (ipykernel)",
   "language": "python",
   "name": "python3"
  },
  "language_info": {
   "codemirror_mode": {
    "name": "ipython",
    "version": 3
   },
   "file_extension": ".py",
   "mimetype": "text/x-python",
   "name": "python",
   "nbconvert_exporter": "python",
   "pygments_lexer": "ipython3",
   "version": "3.9.9"
  }
 },
 "nbformat": 4,
 "nbformat_minor": 5
}
